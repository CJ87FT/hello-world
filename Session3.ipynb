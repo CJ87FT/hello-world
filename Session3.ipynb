{
  "nbformat": 4,
  "nbformat_minor": 0,
  "metadata": {
    "colab": {
      "name": "Session3.ipynb",
      "provenance": [],
      "collapsed_sections": [],
      "authorship_tag": "ABX9TyMlfcYRJjWJ036YZP9myIFQ",
      "include_colab_link": true
    },
    "kernelspec": {
      "name": "python3",
      "display_name": "Python 3"
    }
  },
  "cells": [
    {
      "cell_type": "markdown",
      "metadata": {
        "id": "view-in-github",
        "colab_type": "text"
      },
      "source": [
        "<a href=\"https://colab.research.google.com/github/CJ87FT/hello-world/blob/main/Session3.ipynb\" target=\"_parent\"><img src=\"https://colab.research.google.com/assets/colab-badge.svg\" alt=\"Open In Colab\"/></a>"
      ]
    },
    {
      "cell_type": "markdown",
      "metadata": {
        "id": "c30wUvKCmln-"
      },
      "source": [
        "the first part of my code"
      ]
    },
    {
      "cell_type": "code",
      "metadata": {
        "id": "NW4RS4bFRX7l",
        "colab": {
          "base_uri": "https://localhost:8080/"
        },
        "outputId": "7e27afc5-9379-40e1-bb52-a102b5414573"
      },
      "source": [
        "myVariable= 1000\n",
        "print(myVariable)"
      ],
      "execution_count": null,
      "outputs": [
        {
          "output_type": "stream",
          "text": [
            "1000\n"
          ],
          "name": "stdout"
        }
      ]
    }
  ]
}